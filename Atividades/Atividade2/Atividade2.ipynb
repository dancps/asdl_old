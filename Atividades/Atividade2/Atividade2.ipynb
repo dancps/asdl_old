{
 "cells": [
  {
   "cell_type": "code",
   "execution_count": 1,
   "id": "d38d26c1-1be1-4130-885c-652718bc5f29",
   "metadata": {},
   "outputs": [],
   "source": [
    "import numpy as np; np.set_printoptions(precision=3)\n",
    "import numpy.random as rnd\n",
    "import matplotlib.pyplot as plt\n",
    "\n",
    "def get_super_condition(a_1=None):\n",
    "    # Condicao:\n",
    "    #   a_1^2-4*a_0 > 0\n",
    "    #     a_0 < a_1^2/4\n",
    "    a_0 = (a_1**2)/4\n",
    "    print(f'Superamortecido:\\n  a_0 < {a_0:.3f}')\n",
    "    return a_0\n",
    "\n",
    "def get_crit_condition(a_1=None):\n",
    "    # Condicao:\n",
    "    #   a_1^2-4*a_0 = 0\n",
    "    #     a_0 = a_1^2/4\n",
    "    a_0 = a_1**2/4\n",
    "    print(f'Criticamente amortecido:\\n  a_0 = {a_0:.3f}')\n",
    "    return a_0\n",
    "\n",
    "def get_sub_condition(a_1=None):\n",
    "    # Condicao:\n",
    "    #   a_1^2-4*a_0 < 0\n",
    "    #     a_0 > a_1^2/4\n",
    "    a_0 = a_1**2/4\n",
    "    print(f'Subamortecido:\\n  a_0 > {a_0:.3f}')\n",
    "    return a_0\n",
    "\n",
    "def get_system_types(a_1=None):    \n",
    "    a_0_sup = get_super_condition(a_1)\n",
    "    a_0_crit = get_crit_condition(a_1)\n",
    "    a_0_sub = get_sub_condition(a_1)\n",
    "    return a_0_sup, a_0_crit, a_0_sub\n",
    "    \n",
    "def get_characteristic(matrix,verbose=False):\n",
    "    \"\"\"[summary]\n",
    "\n",
    "    Args:\n",
    "        A (np.array[(n,n)]): Matriz de estados\n",
    "        verbose (bool, optional): Aumenta a verbosidade da função. Por padrão é False.\n",
    "\n",
    "    Returns:\n",
    "        np.array: Lista de coeficientes da função característica.\n",
    "    \"\"\"    \n",
    "    base=-np.ones((1,matrix.shape[0]))[0]\n",
    "    multi = np.linspace(matrix.shape[0],1,matrix.shape[0])\n",
    "    tr = np.trace(matrix)\n",
    "    det = np.linalg.det(matrix)\n",
    "    res = np.concatenate((base**multi,[det]))\n",
    "    res[1:-1] = res[1:-1]*tr\n",
    "    res = -1*res if res[0]<0 else res\n",
    "    if verbose: print(\"res =\",res)\n",
    "    return res\n",
    "\n",
    "def get_eigenval(matrix,verbose=False):\n",
    "    \"\"\"Calcula os autovalores relacionados à matriz de estados.\n",
    "\n",
    "    Args:\n",
    "        A (np.array[(n,n)]): Matriz de estados\n",
    "        verbose (bool, optional): Aumenta a verbosidade da função. Por padrão é False.\n",
    "\n",
    "    Returns:\n",
    "        np.array: Lista de autovalores.\n",
    "    \"\"\"    \n",
    "    return np.roots(get_characteristic(matrix))\n",
    "\n",
    "def get_eigenvec(matrix,verbose=False):\n",
    "    \"\"\"Calcula os autovetores relacionados à matriz de estados.\n",
    "\n",
    "    Args:\n",
    "        A (np.array[(n,n)]): Matriz de estados\n",
    "        verbose (bool, optional): Aumenta a verbosidade da função. Por padrão é False.\n",
    "\n",
    "    Returns:\n",
    "        np.array: Lista de autovetores.\n",
    "    \"\"\"    \n",
    "    # Get eigenvalues\n",
    "    eigval = get_eigenval(matrix)\n",
    "   \n",
    "    temp = np.tensordot(eigval,np.identity(matrix.shape[0]),0)-matrix\n",
    "    temp_b = np.zeros((1,temp.shape[-1])).T\n",
    "    \n",
    "    eigvec = []\n",
    "    for idx_a, a in enumerate(temp):\n",
    "        normalized = np.array([b/b[0] for b in a])\n",
    "        if verbose: print(\"  Normalized = \\n\",normalized)\n",
    "        li_comparison = np.all(np.array([np.isclose(normalized[0],b,rtol=1e-10) for b in normalized])==True)\n",
    "        if verbose: print(\"  Is L.I.?\",li_comparison)\n",
    "        if(li_comparison): \n",
    "            eig = np.array([[1],[-a[0,0]/a[0,1]]])\n",
    "        else: \n",
    "            eig = np.array(np.linalg.solve(a,temp_b))\n",
    "        eigvec.append(eig)\n",
    "    eigvec = np.array(eigvec)\n",
    "    return eigvec\n",
    "\n",
    "def get_system(A,X_init=None):\n",
    "    \"\"\"Calcula autovalores, autovetores e a matriz de amplitudes,\n",
    "    com base na matriz de estados e nas condições iniciais.\n",
    "\n",
    "    Args:\n",
    "        A (np.array[(n,n)]): Matriz de estados\n",
    "        X_init (np.array[(2,1)], optional): Matriz de condições iniciais. Por padrão \n",
    "        tem valor None, que inicializa as condições iniciais com valor unitário.\n",
    "\n",
    "    Returns:\n",
    "        np.array: Matriz de amplitudes.\n",
    "    \"\"\"    \n",
    "    eigenval =  get_eigenval(A)\n",
    "    eigenvec =  get_eigenvec(A)\n",
    "    if(np.any(X_init==None)): X_init = np.ones_like(eigenval)\n",
    "    C = np.linalg.inv(np.concatenate(eigenvec,axis=1))@X_init\n",
    "    return C\n"
   ]
  },
  {
   "cell_type": "markdown",
   "id": "d23e3386-d932-40c7-a701-5eb6b8aadf34",
   "metadata": {
    "tags": []
   },
   "source": [
    "# Exemplos"
   ]
  },
  {
   "cell_type": "markdown",
   "id": "71d8e7c8-b36c-40a8-86c6-223f0061ebc8",
   "metadata": {
    "tags": []
   },
   "source": [
    "## Exemplo 3.1"
   ]
  },
  {
   "cell_type": "code",
   "execution_count": 2,
   "id": "c992e564-bd25-491c-b3bc-6fd0f5a21354",
   "metadata": {},
   "outputs": [
    {
     "name": "stdout",
     "output_type": "stream",
     "text": [
      "A =\n",
      " [[ 0.   1. ]\n",
      " [-0.9 -2. ]] \n",
      "\n",
      "Autovalor de A = [-1.316 -0.684] \n",
      "\n",
      "Autovetor de A(Shape: (2, 2, 1)) =\n",
      "[[[ 1.   ]\n",
      "  [-1.316]]\n",
      "\n",
      " [[ 1.   ]\n",
      "  [-0.684]]] \n",
      "\n",
      "X =\n",
      "[1. 1.] \n",
      "\n",
      "C =\n",
      "[-2.662  3.662] \n",
      "\n",
      "X_dot =\n",
      "[ 1.  -2.9] \n",
      "\n"
     ]
    }
   ],
   "source": [
    "A = np.array([[0,1],\n",
    "              [-0.9,-2]])\n",
    "print(\"A =\\n\", A,\"\\n\")\n",
    "autoval = get_eigenval(A)\n",
    "print(\"Autovalor de A =\",autoval,\"\\n\")\n",
    "autovec = get_eigenvec(A)\n",
    "print(f\"Autovetor de A(Shape: {autovec.shape}) =\\n{autovec}\",\"\\n\")\n",
    "X = np.ones_like(autoval)\n",
    "print(f\"X =\\n{X}\",\"\\n\")\n",
    "C = get_system(A,X)\n",
    "print(f\"C =\\n{C}\",\"\\n\")\n",
    "X_dot=A@X\n",
    "print(f\"X_dot =\\n{X_dot}\",\"\\n\")"
   ]
  },
  {
   "cell_type": "markdown",
   "id": "0fb99e42-12d6-46e9-9c3b-4a9bb8cea062",
   "metadata": {
    "tags": []
   },
   "source": [
    "## Exemplo 3.2"
   ]
  },
  {
   "cell_type": "code",
   "execution_count": 3,
   "id": "596693ff-49a2-491f-a5d1-a67440d4a98e",
   "metadata": {},
   "outputs": [
    {
     "name": "stdout",
     "output_type": "stream",
     "text": [
      "A =\n",
      " [[ 0  1]\n",
      " [-1  0]] \n",
      "\n",
      "Autovalor de A = [0.+1.j 0.-1.j] \n",
      "\n",
      "Autovetor de A(Shape: (2, 2, 1)) =\n",
      "[[[ 1.+0.j]\n",
      "  [-0.+1.j]]\n",
      "\n",
      " [[ 1.+0.j]\n",
      "  [ 0.-1.j]]] \n",
      "\n",
      "X =\n",
      "[1.+0.j 1.+0.j] \n",
      "\n",
      "C =\n",
      "[0.5-0.5j 0.5+0.5j]\n",
      "c_1 = 0.5\n",
      "c_2 = 0.5 \n",
      "\n",
      "X_dot =\n",
      "[ 1.+0.j -1.+0.j] \n",
      "\n"
     ]
    }
   ],
   "source": [
    "A = np.array([[0,1],\n",
    "              [-1,0]])\n",
    "print(\"A =\\n\", A,\"\\n\")\n",
    "autoval = get_eigenval(A)\n",
    "print(\"Autovalor de A =\",autoval,\"\\n\")\n",
    "autovec = get_eigenvec(A)\n",
    "print(f\"Autovetor de A(Shape: {autovec.shape}) =\\n{autovec}\",\"\\n\")\n",
    "X = np.ones_like(autoval)\n",
    "print(f\"X =\\n{X}\",\"\\n\")\n",
    "C = get_system(A,X)\n",
    "c_1 = np.real(C)[1]\n",
    "c_2 = np.imag(C)[1]\n",
    "print(f\"C =\\n{C}\\nc_1 = {c_1}\\nc_2 = {c_2}\",\"\\n\")\n",
    "X_dot=A@X\n",
    "print(f\"X_dot =\\n{X_dot}\",\"\\n\")"
   ]
  },
  {
   "cell_type": "markdown",
   "id": "10dd779c-7965-4cc6-a432-557a9f861f0f",
   "metadata": {},
   "source": [
    "## Exemplo 3.3"
   ]
  },
  {
   "cell_type": "code",
   "execution_count": 4,
   "id": "61a347c3-5903-4484-b4c6-1d996c6f57ca",
   "metadata": {},
   "outputs": [
    {
     "name": "stdout",
     "output_type": "stream",
     "text": [
      "A =\n",
      " [[ 0.   1. ]\n",
      " [-0.9 -2. ]] \n",
      "\n",
      "Autovalor de A = [-1.316 -0.684] \n",
      "\n",
      "Autovetor de A(Shape: (2, 2, 1)) =\n",
      "[[[ 1.   ]\n",
      "  [-1.316]]\n",
      "\n",
      " [[ 1.   ]\n",
      "  [-0.684]]] \n",
      "\n",
      "X =\n",
      "[1. 1.] \n",
      "\n",
      "C =\n",
      "[-2.662  3.662] \n",
      "\n",
      "X_dot =\n",
      "[ 1.  -2.9] \n",
      "\n"
     ]
    }
   ],
   "source": [
    "A = np.array([[0,1],\n",
    "              [-0.9,-2]])\n",
    "print(\"A =\\n\", A,\"\\n\")\n",
    "autoval = get_eigenval(A)\n",
    "print(\"Autovalor de A =\",autoval,\"\\n\")\n",
    "autovec = get_eigenvec(A)\n",
    "print(f\"Autovetor de A(Shape: {autovec.shape}) =\\n{autovec}\",\"\\n\")\n",
    "X = np.ones_like(autoval)\n",
    "print(f\"X =\\n{X}\",\"\\n\")\n",
    "C = get_system(A,X)\n",
    "print(f\"C =\\n{C}\",\"\\n\")\n",
    "X_dot=A@X\n",
    "print(f\"X_dot =\\n{X_dot}\",\"\\n\")"
   ]
  },
  {
   "cell_type": "markdown",
   "id": "e4808309-d8e5-4c74-bad2-1c7d16d8a24a",
   "metadata": {},
   "source": [
    "# Exercício"
   ]
  },
  {
   "cell_type": "code",
   "execution_count": 5,
   "id": "5c9352ab-e8d0-4a2c-9be3-a40a5a3e50e0",
   "metadata": {},
   "outputs": [
    {
     "name": "stdout",
     "output_type": "stream",
     "text": [
      "X_init = [1.1  1.68]\n",
      "a_1 = -1.74\n",
      "Superamortecido:\n",
      "  a_0 < 0.757\n",
      "Criticamente amortecido:\n",
      "  a_0 = 0.757\n",
      "Subamortecido:\n",
      "  a_0 > 0.757\n"
     ]
    }
   ],
   "source": [
    "rnd.seed(11025215)\n",
    "a_1 = -(1+rnd.randint(1,100)/100)\n",
    "X_init = np.array([rnd.randint(1,4)+rnd.randint(1,100)/100,rnd.randint(1,4)+rnd.randint(1,100)/100])\n",
    "print(f\"X_init = {X_init}\\na_1 = {a_1}\")\n",
    "_, a_0_crit,_ = get_system_types(a_1=a_1)\n",
    "\n",
    "a_0_sup = 0.525\n",
    "a_0_sub = 0.890"
   ]
  },
  {
   "cell_type": "markdown",
   "id": "e16a54d8-d82a-4aad-add3-bbfce9433b48",
   "metadata": {
    "tags": []
   },
   "source": [
    "## Superamortecido($a_0<13.69$)"
   ]
  },
  {
   "cell_type": "code",
   "execution_count": 6,
   "id": "edf3bcc6-dd5c-4d39-a2a0-7be4ac1c1cd0",
   "metadata": {},
   "outputs": [
    {
     "name": "stdout",
     "output_type": "stream",
     "text": [
      "A =\n",
      " [[ 0.     1.   ]\n",
      " [-0.525  1.74 ]] \n",
      "\n",
      "Autovalor de A = [1.352 0.388] \n",
      "\n",
      "Autovetor de A(Shape: (2, 2, 1)) =\n",
      "[[[1.   ]\n",
      "  [1.352]]\n",
      "\n",
      " [[1.   ]\n",
      "  [0.388]]] \n",
      "\n",
      "X =\n",
      "[1.1  1.68] \n",
      "\n",
      "C =\n",
      "[ 1.301 -0.201] \n",
      "\n",
      "X_dot =\n",
      "[1.68  2.346] \n",
      "\n"
     ]
    }
   ],
   "source": [
    "A = np.array([[0,1],\n",
    "              [-a_0_sup,-a_1]])\n",
    "print(\"A =\\n\", A,\"\\n\")\n",
    "autoval = get_eigenval(A)\n",
    "print(\"Autovalor de A =\",autoval,\"\\n\")\n",
    "autovec = get_eigenvec(A)\n",
    "print(f\"Autovetor de A(Shape: {autovec.shape}) =\\n{autovec}\",\"\\n\")\n",
    "X = X_init\n",
    "print(f\"X =\\n{X}\",\"\\n\")\n",
    "C = get_system(A,X)\n",
    "print(f\"C =\\n{C}\",\"\\n\")\n",
    "X_dot=A@X\n",
    "print(f\"X_dot =\\n{X_dot}\",\"\\n\")"
   ]
  },
  {
   "cell_type": "markdown",
   "id": "9e97beac-1d9d-4049-9ffe-a9c47a364c60",
   "metadata": {},
   "source": [
    "## Criticamente amortecido($a_0=13.69$)"
   ]
  },
  {
   "cell_type": "code",
   "execution_count": 7,
   "id": "7d6ecc58-fd2a-4de4-9dec-f9b7c9974f43",
   "metadata": {},
   "outputs": [
    {
     "name": "stdout",
     "output_type": "stream",
     "text": [
      "A =\n",
      " [[ 0.     1.   ]\n",
      " [-0.757  1.74 ]] \n",
      "\n",
      "Autovalor de A = [0.87 0.87] \n",
      "\n",
      "Autovetor de A(Shape: (2, 2, 1)) =\n",
      "[[[1.  ]\n",
      "  [0.87]]\n",
      "\n",
      " [[1.  ]\n",
      "  [0.87]]] \n",
      "\n",
      "X =\n",
      "[1.1  1.68] \n",
      "\n",
      "C =\n",
      "[ 36605359.001 -36605357.901] \n",
      "\n",
      "X_dot =\n",
      "[1.68  2.091] \n",
      "\n"
     ]
    }
   ],
   "source": [
    "A = np.array([[0,1],\n",
    "              [-a_0_crit,-a_1]])\n",
    "print(\"A =\\n\", A,\"\\n\")\n",
    "autoval = get_eigenval(A)\n",
    "print(\"Autovalor de A =\",autoval,\"\\n\")\n",
    "autovec = get_eigenvec(A)\n",
    "print(f\"Autovetor de A(Shape: {autovec.shape}) =\\n{autovec}\",\"\\n\")\n",
    "X = X_init\n",
    "print(f\"X =\\n{X}\",\"\\n\")\n",
    "C = get_system(A,X)\n",
    "print(f\"C =\\n{C}\",\"\\n\")\n",
    "X_dot=A@X\n",
    "print(f\"X_dot =\\n{X_dot}\",\"\\n\")"
   ]
  },
  {
   "cell_type": "markdown",
   "id": "faa11e71-c0cb-4341-9c28-ad0fe4c1c0c6",
   "metadata": {
    "tags": []
   },
   "source": [
    "## Subamortecido($a_0>13.69$)"
   ]
  },
  {
   "cell_type": "code",
   "execution_count": 8,
   "id": "d519ea18-0d6a-407e-ad4a-2d0312a187a4",
   "metadata": {},
   "outputs": [
    {
     "name": "stdout",
     "output_type": "stream",
     "text": [
      "A =\n",
      " [[ 0.    1.  ]\n",
      " [-0.89  1.74]] \n",
      "\n",
      "Autovalor de A = [0.87+0.365j 0.87-0.365j] \n",
      "\n",
      "Autovetor de A(Shape: (2, 2, 1)) =\n",
      "[[[1.  +0.j   ]\n",
      "  [0.87+0.365j]]\n",
      "\n",
      " [[1.  +0.j   ]\n",
      "  [0.87-0.365j]]] \n",
      "\n",
      "X =\n",
      "[1.1  1.68] \n",
      "\n",
      "C =\n",
      "[0.55-0.991j 0.55+0.991j]\n",
      "c_1 = 0.550\n",
      "c_2 = 0.991 \n",
      "\n",
      "X_dot =\n",
      "[1.68  1.944] \n",
      "\n"
     ]
    }
   ],
   "source": [
    "A = np.array([[0,1],\n",
    "              [-a_0_sub,-a_1]])\n",
    "print(\"A =\\n\", A,\"\\n\")\n",
    "autoval = get_eigenval(A)\n",
    "print(\"Autovalor de A =\",autoval,\"\\n\")\n",
    "autovec = get_eigenvec(A)\n",
    "print(f\"Autovetor de A(Shape: {autovec.shape}) =\\n{autovec}\",\"\\n\")\n",
    "X = X_init\n",
    "print(f\"X =\\n{X}\",\"\\n\")\n",
    "C = get_system(A,X)\n",
    "c_1 = np.real(C)[1]\n",
    "c_2 = np.imag(C)[1]\n",
    "print(f\"C =\\n{C}\\nc_1 = {c_1:.3f}\\nc_2 = {c_2:.3f}\",\"\\n\")\n",
    "X_dot=A@X\n",
    "print(f\"X_dot =\\n{X_dot}\",\"\\n\")"
   ]
  }
 ],
 "metadata": {
  "kernelspec": {
   "display_name": "Python 3 (ipykernel)",
   "language": "python",
   "name": "python3"
  },
  "language_info": {
   "codemirror_mode": {
    "name": "ipython",
    "version": 3
   },
   "file_extension": ".py",
   "mimetype": "text/x-python",
   "name": "python",
   "nbconvert_exporter": "python",
   "pygments_lexer": "ipython3",
   "version": "3.9.7"
  }
 },
 "nbformat": 4,
 "nbformat_minor": 5
}
